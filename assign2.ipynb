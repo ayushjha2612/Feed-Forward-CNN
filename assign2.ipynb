{
 "cells": [
  {
   "cell_type": "code",
   "execution_count": 1,
   "metadata": {},
   "outputs": [],
   "source": [
    "import numpy as np\n",
    "import matplotlib.pyplot as plt\n",
    "\n",
    "rng = np.random.default_rng()"
   ]
  },
  {
   "cell_type": "markdown",
   "metadata": {},
   "source": [
    "Standard activation functions"
   ]
  },
  {
   "cell_type": "code",
   "execution_count": 2,
   "metadata": {},
   "outputs": [],
   "source": [
    "def sigmoid(x):\n",
    "    return 1/(1+np.exp((-x)))\n",
    "\n",
    "def RELU(x):\n",
    "  return max(0,x)\n",
    "\n",
    "def tanh(x):\n",
    "  return (np.exp(x) - np.exp(-x))/(np.exp(x) + np.exp(-x))\n",
    "\n",
    "def PRelu(x, alpha=0.01):\n",
    "  return max(alpha*x, x)\n",
    "\n",
    "def softmax(input: np.ndarray):\n",
    "  \n",
    "  x = input.copy()\n",
    "  \n",
    "  for i in range(x.size):\n",
    "    x[i] = np.exp(x[i])\n",
    "\n",
    "  sum = np.sum(x)\n",
    "  for i in range(x.size):\n",
    "    x[i] /= sum\n",
    "\n",
    "  return x\n",
    "  \n",
    "ACTIVATIONS = {\"sigmoid\", \"relu\", \"tanh\", \"prelu\"}"
   ]
  },
  {
   "cell_type": "markdown",
   "metadata": {},
   "source": [
    "Opening the CIFAR-10 Dataset"
   ]
  },
  {
   "cell_type": "code",
   "execution_count": 3,
   "metadata": {},
   "outputs": [
    {
     "name": "stdout",
     "output_type": "stream",
     "text": [
      "(50000, 32, 32, 3)\n",
      "(50000,)\n"
     ]
    }
   ],
   "source": [
    "LABELS = [\"airplane\", \"automobile\", \"bird\", \"cat\", \"deer\", \"dog\", \"frog\", \"horse\", \"ship\", \"truck\"]\t\t\t\t\t\t\t\t\t\n",
    "\t\t\t\t\t\t\t\n",
    "def unpickle(file):\n",
    "    import pickle\n",
    "    with open(file, 'rb') as fo:\n",
    "        dict = pickle.load(fo, encoding='bytes')\n",
    "    return dict\n",
    "\n",
    "ips = np.zeros((50000, 3072), dtype= np.uint8)\n",
    "labels = np.zeros(50000, dtype=np.uint8)\n",
    "\n",
    "for i in range(1,6):\n",
    "    # Place the dataset in appropriate location\n",
    "    file = \"cifar-10-python/cifar-10-batches-py/data_batch_\" + str(i)\n",
    "    dict = unpickle(file)\n",
    "    labl = np.array(dict[b'labels'], dtype= np.uint8)\n",
    "    inp = np.array(dict[b'data'], dtype= np.uint8)\n",
    "    ips[ (i-1)*10000: i*10000, :] = inp\n",
    "    labels[(i-1)*10000: i*10000] = labl\n",
    "\n",
    "\n",
    "inputs = np.zeros((50000, 32, 32, 3))\n",
    "for i in range(50000):\n",
    "    inputs[i, : ,:, 0] = ips[i, 0:1024].reshape(32,32)\n",
    "    inputs[i, : ,:, 1] = ips[i, 1024:2048].reshape(32,32)\n",
    "    inputs[i, : ,:, 2] = ips[i, 2048:3072].reshape(32,32)\n",
    "\n",
    "inputs/= 255\n",
    "print(inputs.shape)\n",
    "print(labels.shape)\n"
   ]
  },
  {
   "cell_type": "markdown",
   "metadata": {},
   "source": [
    "# Question 1\n",
    "Convolution function definition"
   ]
  },
  {
   "cell_type": "code",
   "execution_count": 4,
   "metadata": {},
   "outputs": [],
   "source": [
    "def conv2d_function(image: np.ndarray, kernel: np.ndarray, bias : int = 0\n",
    "                    , stride : int = 1, padding : int = 0, activation : str = \"Sigmoid\"):\n",
    "\n",
    "    \"\"\" The convolution function accepts an image as input and returns the output activations as numpy array\n",
    "    \n",
    "    Arguments : \n",
    "    -\n",
    "\n",
    "    image - numpy array with (H,W,C) dimension, input image\n",
    "\n",
    "    kernel -numpy array with (h,w,C) dimension, weights in convolution\n",
    "\n",
    "    bias - integer, represents the bias in convolution, default = 0\n",
    "\n",
    "    stride - integer,  Defines the stride (s,s) to be used in the convolution, default = 1\n",
    "\n",
    "    padding - integer, represents the padding to be used in the input array, default = 0\n",
    "\n",
    "    activation - string, Used to define the activation function to be used while output, options are\n",
    "                sigmoid, ReLU, tanh, PReLu, default = Sigmoid\n",
    "\n",
    "    Returns an output convolved numpy array with dimensions as ((H - h + 2*padding )/stride + 1, (W - w + 2*padding )/stride + 1)\n",
    "     \"\"\"\n",
    "    assert(activation.lower() in ACTIVATIONS)\n",
    "    H, W, C = image.shape\n",
    "    h, w, C = kernel.shape\n",
    "\n",
    "    op_H = (H - h + 2*padding )/stride + 1\n",
    "    op_W = (W - w + 2*padding )/stride + 1\n",
    "\n",
    "    output = np.zeros((int(op_H), int(op_W)))\n",
    "    if padding == 0:\n",
    "        input = image\n",
    "        H_ = H\n",
    "        W_ = W\n",
    "    else:\n",
    "\n",
    "        input = np.zeros((H+ 2*padding, W+ 2*padding, C))\n",
    "        input[padding : H+ 1*padding, padding : W+ 1*padding, :] = image\n",
    "        H_ = H+ 2*padding\n",
    "        W_ = W+ 2*padding\n",
    "\n",
    "   # Actcual convolution operation\n",
    "    i = j = 0\n",
    "    for x in range(0, H_, stride):\n",
    "        for y in range(0, W_, stride):\n",
    "            if(y + w > W_ or x + h > H_):\n",
    "                break\n",
    "            else:\n",
    "                wsum = np.sum(np.multiply(input[x:x+h, y:y+h, :],  kernel))\n",
    "                output[i][j] = wsum + bias\n",
    "            j+=1\n",
    "        i +=1\n",
    "        j = 0\n",
    "        \n",
    "\n",
    "    if activation.lower() ==\"sigmoid\":\n",
    "        output = sigmoid(output)\n",
    "    elif activation.lower() ==\"tanh\":\n",
    "        output = tanh(output)\n",
    "    elif activation.lower() ==\"relu\":\n",
    "        output = RELU(output)\n",
    "    elif activation.lower() ==\"prelu\":\n",
    "        output = PRelu(output)\n",
    "\n",
    "    return output"
   ]
  },
  {
   "cell_type": "markdown",
   "metadata": {},
   "source": [
    "Opening image of iith_logo RGB image of (32, 32)"
   ]
  },
  {
   "cell_type": "code",
   "execution_count": 5,
   "metadata": {},
   "outputs": [
    {
     "name": "stdout",
     "output_type": "stream",
     "text": [
      "(32, 32, 3)\n",
      "Low Resolution image of IITH logo: \n"
     ]
    },
    {
     "data": {
      "image/png": "[encoded data removed]",
      "text/plain": [
       "<Figure size 300x300 with 1 Axes>"
      ]
     },
     "metadata": {},
     "output_type": "display_data"
    }
   ],
   "source": [
    "iith_img = plt.imread(\"iith_logo.jpg\")\n",
    "print(iith_img.shape)\n",
    "iith_img = (iith_img)/255\n",
    "print(\"Low Resolution image of IITH logo: \")\n",
    "plt.figure(figsize=(30, 30), dpi=10)\n",
    "plt.imshow(iith_img)\n",
    "plt.show()\n"
   ]
  },
  {
   "cell_type": "markdown",
   "metadata": {},
   "source": [
    "Defining kernel of size (3,3,3) from  standard normal distribution"
   ]
  },
  {
   "cell_type": "code",
   "execution_count": 6,
   "metadata": {},
   "outputs": [
    {
     "name": "stderr",
     "output_type": "stream",
     "text": [
      "Clipping input data to the valid range for imshow with RGB data ([0..1] for floats or [0..255] for integers).\n"
     ]
    },
    {
     "name": "stdout",
     "output_type": "stream",
     "text": [
      "Kernel used in Convolution:\n"
     ]
    },
    {
     "data": {
      "image/png": "[encoded data removed]",
      "text/plain": [
       "<Figure size 300x300 with 1 Axes>"
      ]
     },
     "metadata": {},
     "output_type": "display_data"
    }
   ],
   "source": [
    "kernel = np.random.randn(27).reshape(3,3,3)\n",
    "print(\"Kernel used in Convolution:\")\n",
    "plt.figure(figsize=(30, 30), dpi=10)\n",
    "plt.imshow(kernel)\n",
    "plt.show()"
   ]
  },
  {
   "cell_type": "markdown",
   "metadata": {},
   "source": [
    "Calling the convolution function and displaying the output image with dimensions (32,32,3) , kernel with dimensions (3,3,3) , bias = 0 , stride =1 , padding =0 and sigmoid activation function"
   ]
  },
  {
   "cell_type": "code",
   "execution_count": 7,
   "metadata": {},
   "outputs": [
    {
     "name": "stdout",
     "output_type": "stream",
     "text": [
      "Output activation image : \n"
     ]
    },
    {
     "data": {
      "image/png": "[encoded data removed]",
      "text/plain": [
       "<Figure size 300x300 with 1 Axes>"
      ]
     },
     "metadata": {},
     "output_type": "display_data"
    }
   ],
   "source": [
    "output_act = conv2d_function(iith_img , kernel)\n",
    "\n",
    "print(\"Output activation image : \")\n",
    "plt.figure(figsize=(30, 30), dpi=10)\n",
    "plt.imshow(output_act, cmap= \"Greys\")\n",
    "plt.show()"
   ]
  },
  {
   "cell_type": "markdown",
   "metadata": {},
   "source": [
    "# Question 2\n",
    "The pooling function section"
   ]
  },
  {
   "cell_type": "code",
   "execution_count": 8,
   "metadata": {},
   "outputs": [],
   "source": [
    "POOL_FUNCTIONS = {\"max\", \"avg\"}\n",
    "def pool_function(input : np.ndarray, kernel_size: tuple, pooling_func : str = \"Max\", stride: int = 2):\n",
    "    \"\"\" The pooling function accepts an image as input and returns the output activations as numpy array\n",
    "    \n",
    "    Arguments : \n",
    "    -\n",
    "\n",
    "    input - numpy array with (H,W) dimension, input will be activation output from previous layer\n",
    "\n",
    "    kernel_size -tuple indicating dimension of kernels\n",
    "\n",
    "    pooling_func - The function or type of pooling (max, avg) , default = max\n",
    "\n",
    "    stride - (s,s) stride value to be chosen while performing the pooling operation, default = 2\n",
    "    \n",
    "    Returns an output pooled numpy array with dimensions as ((H - h )/stride + 1, (W - w )/stride + 1 )\n",
    "\n",
    "     \"\"\"\n",
    "    assert(pooling_func.lower() in POOL_FUNCTIONS)\n",
    "    H ,W = input.shape\n",
    "    h, w = kernel_size\n",
    "    \n",
    "    op_H = (H - h )/stride + 1\n",
    "    op_W = (W - w )/stride + 1\n",
    "\n",
    "    output = np.zeros((int(op_H), int(op_W)))\n",
    "\n",
    "    # Actcual pooling operation\n",
    "    i = j = 0\n",
    "    for x in range(0, H, stride):\n",
    "        for y in range(0, W, stride):\n",
    "            if(y + w > W or x + h > H):\n",
    "                break\n",
    "            else:\n",
    "                wsum = 0\n",
    "                if pooling_func.lower() == \"max\":\n",
    "                    wsum = np.amax(input[x:x+h, y:y+h])\n",
    "                elif pooling_func.lower() == \"avg\":\n",
    "                    wsum = np.average(input[x:x+h, y:y+h])\n",
    "\n",
    "                output[i][j] = wsum \n",
    "            j+=1\n",
    "        i +=1\n",
    "        j = 0\n",
    "\n",
    "    return output"
   ]
  },
  {
   "cell_type": "markdown",
   "metadata": {},
   "source": [
    "Displaying the input activation map and calling the pooling function"
   ]
  },
  {
   "cell_type": "code",
   "execution_count": 9,
   "metadata": {},
   "outputs": [
    {
     "name": "stdout",
     "output_type": "stream",
     "text": [
      "Input activation image: \n"
     ]
    },
    {
     "data": {
      "image/png": "[encoded data removed]",
      "text/plain": [
       "<Figure size 300x300 with 1 Axes>"
      ]
     },
     "metadata": {},
     "output_type": "display_data"
    }
   ],
   "source": [
    "input_act = output_act\n",
    "print(\"Input activation image: \")\n",
    "plt.figure(figsize=(30, 30), dpi=10)\n",
    "plt.imshow(input_act , cmap= \"Greys\")\n",
    "plt.show()\n",
    "\n",
    "# Used (2,2) kernel and stride =2 with max pooling\n",
    "pooled_out = pool_function(input_act, (2,2))"
   ]
  },
  {
   "cell_type": "markdown",
   "metadata": {},
   "source": [
    "Displaying the pooled output map"
   ]
  },
  {
   "cell_type": "code",
   "execution_count": 10,
   "metadata": {},
   "outputs": [
    {
     "name": "stdout",
     "output_type": "stream",
     "text": [
      "Pooled output:  \n"
     ]
    },
    {
     "data": {
      "image/png": "[encoded data removed]",
      "text/plain": [
       "<Figure size 300x300 with 1 Axes>"
      ]
     },
     "metadata": {},
     "output_type": "display_data"
    }
   ],
   "source": [
    "print(\"Pooled output:  \")\n",
    "plt.figure(figsize=(30, 30), dpi=10)\n",
    "plt.imshow(pooled_out, cmap= \"Greys\")\n",
    "plt.show()"
   ]
  },
  {
   "cell_type": "markdown",
   "metadata": {},
   "source": [
    "# Question 3\n",
    "Convolution layer function"
   ]
  },
  {
   "cell_type": "code",
   "execution_count": 11,
   "metadata": {},
   "outputs": [],
   "source": [
    "def conv2d_layer(input: np.ndarray, num_filters : int , kernels: np.ndarray, bias = None\n",
    "                , stride : int = 1, padding : int = 0, activation : str = \"Sigmoid\"):\n",
    "    \"\"\" The convolution layer accepts an image or activation maps as input and returns \n",
    "    the convolved output activations with num_filters kernels as numpy array.\n",
    "    \n",
    "    Arguments:\n",
    "    -\n",
    "        input: numpy array with (H,W,C) dimension, input to the convolution function\n",
    "\n",
    "        num_filters: integer, specifies the number of kernels to be used - D\n",
    "\n",
    "        kernels: numpy array with (h, w, C, D) dimension, weights in convolution used\n",
    "\n",
    "        bias: numpy array of d-dimensions, represents the bias in convolution, default = None\n",
    "\n",
    "        stride: integer,  Defines the stride (s,s) to be used in the convolution, default = 1\n",
    "\n",
    "        padding: integer, represents the padding to be used in the input array, default = 0\n",
    "\n",
    "        activation: string, Used to define the activation function to be used while output, options are\n",
    "                    sigmoid, ReLU, tanh, PReLu, default = Sigmoid\n",
    "\n",
    "    Returns an output convolved numpy array with dimensions as ((H - h + 2*padding )/stride + 1, (W - w + 2*padding )/stride + 1 , D)\n",
    "    \"\"\"\n",
    "    assert(activation.lower() in ACTIVATIONS)\n",
    "    H, W, C = input.shape\n",
    "    h, w, C, D = kernels.shape\n",
    "\n",
    "    op_H = (H - h + 2*padding )/stride + 1\n",
    "    op_W = (W - w + 2*padding )/stride + 1\n",
    "\n",
    "    output = np.zeros((int(op_H), int(op_W), D))\n",
    "    \n",
    "    for i in range(num_filters):\n",
    "        if bias==None:\n",
    "            output[:, :, i] = conv2d_function(input, kernels[:, :, :, i], 0, stride, padding, activation)\n",
    "        else:\n",
    "            output[:, :, i] = conv2d_function(input, kernels[:, :, :, i], bias[i], stride, padding, activation)\n",
    "\n",
    "    return output"
   ]
  },
  {
   "cell_type": "markdown",
   "metadata": {},
   "source": [
    "Displaying the Input image"
   ]
  },
  {
   "cell_type": "code",
   "execution_count": 12,
   "metadata": {},
   "outputs": [
    {
     "name": "stdout",
     "output_type": "stream",
     "text": [
      "Input Image of deer \n"
     ]
    },
    {
     "data": {
      "image/png": "[encoded data removed]",
      "text/plain": [
       "<Figure size 300x300 with 1 Axes>"
      ]
     },
     "metadata": {},
     "output_type": "display_data"
    }
   ],
   "source": [
    "i = rng.integers(low=0, high=50000, size=1)\n",
    "input_img = inputs[i[0]]\n",
    "print(f\"Input Image of {LABELS[labels[i].item()]} \")\n",
    "plt.figure(figsize=(30, 30), dpi=10)\n",
    "plt.imshow(input_img)\n",
    "plt.show()"
   ]
  },
  {
   "cell_type": "markdown",
   "metadata": {},
   "source": [
    "Displaying 5 different kernel filters used for convolution"
   ]
  },
  {
   "cell_type": "code",
   "execution_count": 13,
   "metadata": {},
   "outputs": [
    {
     "name": "stderr",
     "output_type": "stream",
     "text": [
      "Clipping input data to the valid range for imshow with RGB data ([0..1] for floats or [0..255] for integers).\n",
      "Clipping input data to the valid range for imshow with RGB data ([0..1] for floats or [0..255] for integers).\n",
      "Clipping input data to the valid range for imshow with RGB data ([0..1] for floats or [0..255] for integers).\n",
      "Clipping input data to the valid range for imshow with RGB data ([0..1] for floats or [0..255] for integers).\n",
      "Clipping input data to the valid range for imshow with RGB data ([0..1] for floats or [0..255] for integers).\n"
     ]
    },
    {
     "data": {
      "image/png": "[encoded data removed]",
      "text/plain": [
       "<Figure size 1440x1080 with 5 Axes>"
      ]
     },
     "metadata": {},
     "output_type": "display_data"
    }
   ],
   "source": [
    "num_kernels = 5\n",
    "kernels = np.random.randn(27*num_kernels).reshape(3,3, 3, num_kernels)\n",
    "\n",
    "f, axarr = plt.subplots(1,num_kernels)\n",
    "f.dpi = 225\n",
    "for i in range(num_kernels):\n",
    "    axarr[i].set_title(\" Kernel - \"+ str(i+1))\n",
    "    axarr[i].axis(\"off\")\n",
    "    axarr[i].imshow(kernels[:, :, :, i])\n",
    "\n",
    "plt.show()\n",
    "# for i in range(num_kernels):\n",
    "#     print(f\"Kernel - {i+1}: \")\n",
    "#     plt.figure(figsize=(30, 30), dpi=10)\n",
    "#     plt.imshow(kernels[:, :, :, i])\n",
    "#     plt.show()"
   ]
  },
  {
   "cell_type": "markdown",
   "metadata": {},
   "source": [
    "Calling the convolutional layer function and displaying the 5 outputs generated from the convolution layer"
   ]
  },
  {
   "cell_type": "code",
   "execution_count": 14,
   "metadata": {},
   "outputs": [
    {
     "name": "stdout",
     "output_type": "stream",
     "text": [
      "Verifying the expected shape = (30, 30, 5)\n",
      "\n"
     ]
    },
    {
     "data": {
      "image/png": "[encoded data removed]",
      "text/plain": [
       "<Figure size 1440x1080 with 5 Axes>"
      ]
     },
     "metadata": {},
     "output_type": "display_data"
    }
   ],
   "source": [
    "# Input - (32,32,3) , kernel filters with dimensions (3,3,3,5) , bias = None , stride =1 , padding =0 and sigmoid activation function\n",
    "act_outs = conv2d_layer(input_img, num_kernels, kernels)\n",
    "\n",
    "print(f\"Verifying the expected shape = {act_outs.shape}\\n\")   \n",
    "\n",
    "f, axarr = plt.subplots(1, num_kernels)\n",
    "f.dpi = 225\n",
    "for i in range(num_kernels):\n",
    "    axarr[i].set_title(\" Output - \"+ str(i+1))\n",
    "    axarr[i].axis(\"off\")\n",
    "    axarr[i].imshow(act_outs[:, :, i], cmap=\"Greys\")\n",
    "\n",
    "plt.show()"
   ]
  },
  {
   "cell_type": "markdown",
   "metadata": {},
   "source": [
    "# Question 4\n",
    "Pooling layer function"
   ]
  },
  {
   "cell_type": "code",
   "execution_count": 15,
   "metadata": {},
   "outputs": [],
   "source": [
    "POOL_FUNCTIONS.add(\"gap\")\n",
    "def pool_layer(input : np.ndarray, kernel_size: tuple = (2,2), pooling_func : str = \"Max\", stride: int = 2):\n",
    "    \"\"\" The pooling layer function accepts an image or activation volume as input and returns the output activations volume as numpy array\n",
    "    \n",
    "    Arguments : \n",
    "    -\n",
    "\n",
    "    input - numpy array with (H,W,C) dimension, input will be activation output from previous layer\n",
    "\n",
    "    kernel_size -tuple indicating dimension of kernels,(k,k), deafult= (2,2)\n",
    "\n",
    "    pooling_func - The function or type of pooling (max, avg, gap), A special case for global average pooling is also provided , default = max\n",
    "\n",
    "    stride - (s,s) stride value to be chosen while performing the pooling operation, default = 2\n",
    "    \n",
    "    Returns an output pooled numpy array with dimensions as ((H - h )/stride + 1, (W - w )/stride + 1, C)\n",
    "\n",
    "     \"\"\"\n",
    "    assert(pooling_func.lower() in POOL_FUNCTIONS)\n",
    "    H ,W ,C = input.shape\n",
    "    if pooling_func.lower() == \"gap\":\n",
    "        output = np.zeros((1,1,C))\n",
    "        for i in range(C):\n",
    "            output[:, :, i] = np.average(input[:,:,i])\n",
    "\n",
    "    else:\n",
    "        \n",
    "        h, w = kernel_size\n",
    "        op_H = (H - h )/stride + 1\n",
    "        op_W = (W - w )/stride + 1\n",
    "\n",
    "        output = np.zeros((int(op_H), int(op_W), C))\n",
    "\n",
    "        # Actcual pooling layer operation\n",
    "        for i in range(C):\n",
    "            output[:, :, i] = pool_function(input[:, :, i], kernel_size, pooling_func, stride)\n",
    "\n",
    "    return output"
   ]
  },
  {
   "cell_type": "markdown",
   "metadata": {},
   "source": [
    "Displaying the input volume, the output from the convoluted layer"
   ]
  },
  {
   "cell_type": "code",
   "execution_count": 16,
   "metadata": {},
   "outputs": [
    {
     "data": {
      "image/png": "[encoded data removed]",
      "text/plain": [
       "<Figure size 1440x1080 with 5 Axes>"
      ]
     },
     "metadata": {},
     "output_type": "display_data"
    }
   ],
   "source": [
    "input_vol = act_outs\n",
    "f, axarr = plt.subplots(1, num_kernels)\n",
    "plt.rcParams.update({'font.size': 8})\n",
    "f.dpi = 225\n",
    "for i in range(num_kernels):\n",
    "    axarr[i].set_title(\"Input - \"+ str(i+1))\n",
    "    axarr[i].axis(\"off\")\n",
    "    axarr[i].imshow(input_vol[:, :, i], cmap=\"Greys\")\n",
    "\n",
    "plt.show()"
   ]
  },
  {
   "cell_type": "markdown",
   "metadata": {},
   "source": [
    "Calling the pooling layer function with (2,2) kernel and stride = 2 with max pooling and displaying the outputs produced.<br />\n",
    "Also included the Global Average pooling Case "
   ]
  },
  {
   "cell_type": "code",
   "execution_count": 17,
   "metadata": {},
   "outputs": [
    {
     "name": "stdout",
     "output_type": "stream",
     "text": [
      "(15, 15, 5)\n"
     ]
    },
    {
     "data": {
      "image/png": "[encoded data removed]",
      "text/plain": [
       "<Figure size 1440x1080 with 5 Axes>"
      ]
     },
     "metadata": {},
     "output_type": "display_data"
    },
    {
     "name": "stdout",
     "output_type": "stream",
     "text": [
      "The output from GAP is [[[0.88980938 0.72611056 0.0300076  0.93151063 0.20989332]]] with shape = (1, 1, 5)\n"
     ]
    }
   ],
   "source": [
    "out_vol = pool_layer(input_vol, (2,2),\"Max\", 2)\n",
    "print(out_vol.shape)\n",
    "f, axarr = plt.subplots(1, num_kernels)\n",
    "plt.rcParams.update({'font.size': 5})\n",
    "f.dpi = 225\n",
    "\n",
    "for i in range(num_kernels):\n",
    "    axarr[i].set_title(\"Pooled volume- \"+ str(i+1))\n",
    "    axarr[i].axis(\"off\")\n",
    "    axarr[i].imshow(out_vol[:, :, i], cmap=\"Greys\")\n",
    "\n",
    "plt.show()\n",
    "\n",
    "out_vec= pool_layer(input_vol, (2,2),\"GAP\", 2)\n",
    "print(f\"The output from GAP is {out_vec} with shape = {out_vec.shape}\")\n"
   ]
  },
  {
   "cell_type": "markdown",
   "metadata": {},
   "source": [
    "# Question 5\n",
    "Flattening the pooled output from previous layers and converting it into a vector"
   ]
  },
  {
   "cell_type": "code",
   "execution_count": 18,
   "metadata": {},
   "outputs": [
    {
     "name": "stdout",
     "output_type": "stream",
     "text": [
      "(1000, 1)\n"
     ]
    }
   ],
   "source": [
    "def flatten_input(input: np.ndarray, size: int = None, weights: np.ndarray = None):\n",
    "     \"\"\" The flattening function accepts input as a 3d matrix and outputs a vector of size - size\n",
    "    \n",
    "    Arguments : \n",
    "    -\n",
    "\n",
    "    input - numpy array with (H,W,C) dimension, input will be pooled output from previous layer\n",
    "\n",
    "    size - integer indicating dimension of the output vector, default = None\n",
    "\n",
    "    weights - numpy array with dimensions ( size, H*W*C), used to output vector of appropriate dimensions, default = None\n",
    "    \n",
    "    Returns an output vector (numpy array) with dimension as size\n",
    "\n",
    "     \"\"\"\n",
    "     H,W,C = input.shape\n",
    "     ip = np.zeros((H*W*C, 1))\n",
    "\n",
    "     i= 0\n",
    "     for h in range(H):\n",
    "          for w in range(W):\n",
    "               ip[i * C : (i+1) * C, 0] = input[h, w, :]\n",
    "               i+=1\n",
    "     if size == None or size == ip.size:\n",
    "          return ip\n",
    "\n",
    "     if weights==None:\n",
    "          weights = np.random.randn(size*H*W*C).reshape((size, H*W*C))\n",
    "    \n",
    "     output =  weights @ ip\n",
    "     return output\n",
    "\n",
    "\n",
    "flat_vec= flatten_input(out_vol, 1000)\n",
    "print(flat_vec.shape)"
   ]
  },
  {
   "cell_type": "markdown",
   "metadata": {},
   "source": [
    "# Question 6\n",
    "Multilayer perceptron is defined here"
   ]
  },
  {
   "cell_type": "code",
   "execution_count": 19,
   "metadata": {},
   "outputs": [
    {
     "data": {
      "text/plain": [
       "(array([[5.35871443e-04],\n",
       "        [8.97092015e-05],\n",
       "        [1.30335004e-05],\n",
       "        [9.96934882e-01],\n",
       "        [4.84420267e-04],\n",
       "        [5.76525634e-06],\n",
       "        [1.18922122e-03],\n",
       "        [6.91975913e-04],\n",
       "        [2.32307944e-05],\n",
       "        [3.18907401e-05]]),\n",
       " array([[-0.70855465],\n",
       "        [-2.4958756 ],\n",
       "        [-4.42492594],\n",
       "        [ 6.81999179],\n",
       "        [-0.80949609],\n",
       "        [-5.24059932],\n",
       "        [ 0.08860499],\n",
       "        [-0.45289779],\n",
       "        [-3.8469702 ],\n",
       "        [-3.53013325]]))"
      ]
     },
     "execution_count": 19,
     "metadata": {},
     "output_type": "execute_result"
    }
   ],
   "source": [
    "def MLP(input: np.ndarray, num_hidden_layers: int, hidden_dims: np.ndarray, activation: str , out_size: int, \n",
    "        weights: list = None, bias: list = None):\n",
    "    \"\"\" The MLP function represents a multi-layer perceptron layer or fully connected layer. It accepts input vector \n",
    "        and it generates the output with and without the softmax function applied to the output layer.\n",
    "    \n",
    "    Arguments : \n",
    "    -\n",
    "\n",
    "    input - numpy vector with (N,1) dimension, input will be flattened output from previous layer\n",
    "\n",
    "    num_hidden_layers - integer indicating number of hidden layers of the MLP\n",
    "\n",
    "    hidden_dims - numpy array with of size as number of hidden layers, with each entry representing the number of neurons in that hidden layer\n",
    "\n",
    "    activation - string, Used to define the activation function to be used in the MLP, options are\n",
    "                sigmoid, ReLU, tanh, PReLu, default = Sigmoid\n",
    "\n",
    "    out_size- integer, represents the output size  of the MLP (or no. of neurons in output layer)\n",
    "\n",
    "    weights - list indicating the weight matrices of each layer to be used, default = None\n",
    "\n",
    "    bias - list indicating the bias matrices of each layer, default = None\n",
    "    \n",
    "    Returns a tuple of the output with and without the softmax function applied to the output layer.\n",
    "\n",
    "     \"\"\"\n",
    "    assert(activation.lower() in ACTIVATIONS)\n",
    "\n",
    "    # A numpy array to represent all dimensions of each layer\n",
    "\n",
    "    dims = np.zeros(2+num_hidden_layers, dtype =int)\n",
    "    num_layers = dims.size\n",
    "    dims[0] = input.size\n",
    "    dims[num_layers-1] = out_size\n",
    "    dims[1:num_layers-1] =  hidden_dims\n",
    "\n",
    "    if weights == None:\n",
    "        weights = []\n",
    "        bias = []\n",
    "        for i in range(num_layers-1):\n",
    "            W = np.random.randn( dims[i+1] * dims[i]).reshape((dims[i+1], dims[i]))\n",
    "            weights.append(W)\n",
    "            b = np.random.randn(dims[i+1]).reshape((dims[i+1],1))\n",
    "            bias.append(b)\n",
    "    \n",
    "    if bias == None:\n",
    "        bias = []\n",
    "        for i in range( num_hidden_layers+1):\n",
    "            b = np.zeros((dims[i+1],1))\n",
    "            bias.append(b)\n",
    "\n",
    "    output = np.zeros(out_size)\n",
    "    prev_out =  input\n",
    "\n",
    "    for layer in range(num_layers-1):\n",
    "        s = weights[layer] @ prev_out + bias[layer]\n",
    "        if layer == num_layers-2:\n",
    "            output = s\n",
    "            break\n",
    "\n",
    "        if activation.lower() ==\"sigmoid\":\n",
    "            prev_out = sigmoid(s)\n",
    "        elif activation.lower() ==\"tanh\":\n",
    "            prev_out = tanh(s)\n",
    "        elif activation.lower() ==\"relu\":\n",
    "            prev_out = RELU(s)\n",
    "        elif activation.lower() ==\"prelu\":\n",
    "            prev_out = PRelu(s)\n",
    "\n",
    "    \n",
    "    return (softmax(output), output)\n",
    "    \n",
    "    \n",
    "n = 2\n",
    "hd = np.array([10, 20], dtype = int)\n",
    "out = 10\n",
    "\n",
    "MLP(flat_vec, n, hd, \"Sigmoid\", out)"
   ]
  },
  {
   "cell_type": "markdown",
   "metadata": {},
   "source": [
    "# Question 7\n",
    "Implementing the CNN"
   ]
  },
  {
   "cell_type": "code",
   "execution_count": 20,
   "metadata": {},
   "outputs": [],
   "source": [
    "class CNN:\n",
    "\n",
    "    def __init__(self):\n",
    "\n",
    "        # Intializing random kernels for 1st layer\n",
    "        self.kernels1 = np.random.randn( 3*3*3*16).reshape((3,3,3,16))\n",
    "\n",
    "        # Intializing random kernels for 2nd layer\n",
    "        self.kernels2 = np.random.randn( 3*3*16*8).reshape((3,3,16,8))\n",
    "\n",
    "        # Intitalizing weights and bias for MLP 8 inputs, 8 hidden layers, 10 output layers\n",
    "        self.weights = []\n",
    "        self.bias = []\n",
    "\n",
    "        w = np.random.randn(8*8).reshape((8,8))\n",
    "        self.weights.append(w)\n",
    "        w = np.random.randn(10*8).reshape((10, 8))\n",
    "        self.weights.append(w)\n",
    "\n",
    "        b = np.random.randn(8).reshape((8,1))\n",
    "        self.bias.append(b)\n",
    "        b = np.random.randn(10).reshape((10, 1))\n",
    "        self.bias.append(b)\n",
    "\n",
    "        \n",
    "\n",
    "    def feed_forward(self, input: np.ndarray, num_outputs: int):\n",
    "\n",
    "        \"\"\" The feed forward function implements the CNN's feed forward path, meaning given an input image it will \n",
    "            output a vector of dimensions the same as no. of output classes\n",
    "        \n",
    "        Arguments : \n",
    "        -\n",
    "\n",
    "        input - numpy image with (H,W,C) dimensions, input will be the image from dataset\n",
    "\n",
    "        num_outputs - integer, indicating the number of output classes\n",
    "\n",
    "        Returns a numpy array representing a vector of dimension the same as output no. of classes.\n",
    "\n",
    "        \"\"\"\n",
    "\n",
    "        # Convolution layer with 16 kernels of size 3 × 3 spatial dimensions and sigmoid activation.\n",
    "        first_conv_output = conv2d_layer(input= input, num_filters= 16, kernels= self.kernels1, activation= \"Sigmoid\") \n",
    "\n",
    "        # Max pooling layer of size 2 × 2 with a stride of 2 along each dimension.\n",
    "        first_pool_output = pool_layer(input= first_conv_output, kernel_size= (2,2), pooling_func= \"Max\", stride= 2)\n",
    "\n",
    "        # Convolution layer with 8 kernels of spatial size 3 × 3 and sigmoid activation.\n",
    "        second_conv_output = conv2d_layer(input= first_pool_output, num_filters= 8, kernels= self.kernels2, activation= \"Sigmoid\") \n",
    "\n",
    "        # Max pooling layer of size 2 × 2 with a stride of 2 along each dimension.\n",
    "        second_pool_output = pool_layer(input= second_conv_output, kernel_size= (2,2), pooling_func= \"Max\", stride= 2)\n",
    "\n",
    "        # A Global Average Pooling (GAP) layer.\n",
    "        gap_output = pool_layer(input= second_pool_output, pooling_func= \"GAP\")\n",
    "\n",
    "        # Flattening or reshaping GAP output\n",
    "        flat_vector = flatten_input(input= gap_output)\n",
    "\n",
    "        # An MLP with one hidden layer\n",
    "        hd_dim = np.array(flat_vector.size)\n",
    "        output_vec_softmax, output_vec = MLP(input= flat_vector, num_hidden_layers= 1, hidden_dims= hd_dim, activation= \"Sigmoid\"\n",
    "                                            , out_size= num_outputs, weights= self.weights, bias= self.bias)\n",
    "\n",
    "        return output_vec_softmax, flat_vector"
   ]
  },
  {
   "cell_type": "markdown",
   "metadata": {},
   "source": [
    "Calling the feedforward function"
   ]
  },
  {
   "cell_type": "code",
   "execution_count": 21,
   "metadata": {},
   "outputs": [],
   "source": [
    "# Crteating once so that the weights do not get reintialized\n",
    "cnn = CNN()"
   ]
  },
  {
   "cell_type": "code",
   "execution_count": 22,
   "metadata": {},
   "outputs": [
    {
     "name": "stdout",
     "output_type": "stream",
     "text": [
      "Input Image of frog \n"
     ]
    },
    {
     "data": {
      "image/png": "[encoded data removed]",
      "text/plain": [
       "<Figure size 300x300 with 1 Axes>"
      ]
     },
     "metadata": {},
     "output_type": "display_data"
    },
    {
     "name": "stdout",
     "output_type": "stream",
     "text": [
      "(10, 1)\n",
      "[[2.99280663e-03]\n",
      " [1.39444342e-02]\n",
      " [2.09981420e-03]\n",
      " [5.94811237e-03]\n",
      " [1.08659421e-01]\n",
      " [2.57118479e-04]\n",
      " [8.43510525e-01]\n",
      " [1.70742851e-02]\n",
      " [5.41209038e-03]\n",
      " [1.01392707e-04]]\n"
     ]
    }
   ],
   "source": [
    "i = rng.integers(low=0, high=50000, size=1)\n",
    "\n",
    "input = inputs[i[0]]\n",
    "print(f\"Input Image of {LABELS[labels[i].item()]} \")\n",
    "plt.figure(figsize=(30, 30), dpi=10)\n",
    "plt.imshow(input)\n",
    "plt.show()\n",
    "\n",
    "\n",
    "output, fv = cnn.feed_forward(input= input, num_outputs= 10)\n",
    "print(output.shape)\n",
    "print(output)"
   ]
  },
  {
   "cell_type": "markdown",
   "metadata": {},
   "source": [
    "# Question 8\n"
   ]
  },
  {
   "cell_type": "code",
   "execution_count": 23,
   "metadata": {},
   "outputs": [
    {
     "name": "stdout",
     "output_type": "stream",
     "text": [
      "\n",
      "Output vector for label :  airplane\n",
      "[[3.00858027e-03]\n",
      " [1.35790209e-02]\n",
      " [2.07466557e-03]\n",
      " [5.77445415e-03]\n",
      " [1.10256146e-01]\n",
      " [2.57110395e-04]\n",
      " [8.42258678e-01]\n",
      " [1.71476811e-02]\n",
      " [5.53882961e-03]\n",
      " [1.04833493e-04]]\n",
      "\n",
      "Output vector for label :  automobile\n",
      "[[2.96935935e-03]\n",
      " [1.48687074e-02]\n",
      " [2.14372353e-03]\n",
      " [6.37825445e-03]\n",
      " [1.05117919e-01]\n",
      " [2.58733612e-04]\n",
      " [8.46182134e-01]\n",
      " [1.68633652e-02]\n",
      " [5.12365623e-03]\n",
      " [9.41467858e-05]]\n",
      "\n",
      "Output vector for label :  bird\n",
      "[[2.98392803e-03]\n",
      " [1.41537690e-02]\n",
      " [2.10893136e-03]\n",
      " [6.03229360e-03]\n",
      " [1.08301162e-01]\n",
      " [2.56810791e-04]\n",
      " [8.43591069e-01]\n",
      " [1.71089604e-02]\n",
      " [5.36320149e-03]\n",
      " [9.98735404e-05]]\n",
      "\n",
      "Output vector for label :  cat\n",
      "[[2.89368661e-03]\n",
      " [1.57677210e-02]\n",
      " [2.16880147e-03]\n",
      " [6.73518839e-03]\n",
      " [1.02910192e-01]\n",
      " [2.53912699e-04]\n",
      " [8.47533831e-01]\n",
      " [1.68804909e-02]\n",
      " [4.76882511e-03]\n",
      " [8.73506699e-05]]\n",
      "\n",
      "Output vector for label :  deer\n",
      "[[2.90444984e-03]\n",
      " [1.73754554e-02]\n",
      " [2.18404447e-03]\n",
      " [7.16054862e-03]\n",
      " [1.06927601e-01]\n",
      " [2.57295736e-04]\n",
      " [8.40302947e-01]\n",
      " [1.78881204e-02]\n",
      " [4.91504045e-03]\n",
      " [8.44975085e-05]]\n",
      "\n",
      "Output vector for label :  dog\n",
      "[[2.96034988e-03]\n",
      " [1.50934666e-02]\n",
      " [2.14967852e-03]\n",
      " [6.44251799e-03]\n",
      " [1.05538918e-01]\n",
      " [2.58291726e-04]\n",
      " [8.45339402e-01]\n",
      " [1.70051319e-02]\n",
      " [5.11900964e-03]\n",
      " [9.32333513e-05]]\n",
      "\n",
      "Output vector for label :  frog\n",
      "[[2.98540047e-03]\n",
      " [1.45853842e-02]\n",
      " [2.13136854e-03]\n",
      " [6.22903074e-03]\n",
      " [1.06924203e-01]\n",
      " [2.58937840e-04]\n",
      " [8.44472951e-01]\n",
      " [1.70322380e-02]\n",
      " [5.28352644e-03]\n",
      " [9.69595754e-05]]\n",
      "\n",
      "Output vector for label :  horse\n",
      "[[2.97745904e-03]\n",
      " [1.41094512e-02]\n",
      " [2.10994294e-03]\n",
      " [6.03452750e-03]\n",
      " [1.07516914e-01]\n",
      " [2.56397279e-04]\n",
      " [8.44608910e-01]\n",
      " [1.69838193e-02]\n",
      " [5.30316926e-03]\n",
      " [9.94102807e-05]]\n",
      "\n",
      "Output vector for label :  ship\n",
      "[[3.01492060e-03]\n",
      " [1.37175073e-02]\n",
      " [2.07067367e-03]\n",
      " [5.78164865e-03]\n",
      " [1.11702959e-01]\n",
      " [2.57452293e-04]\n",
      " [8.40344613e-01]\n",
      " [1.73907859e-02]\n",
      " [5.61396884e-03]\n",
      " [1.05470954e-04]]\n",
      "\n",
      "Output vector for label :  truck\n",
      "[[2.92386592e-03]\n",
      " [1.46518342e-02]\n",
      " [2.14520827e-03]\n",
      " [6.33524326e-03]\n",
      " [1.03171902e-01]\n",
      " [2.53237590e-04]\n",
      " [8.48914278e-01]\n",
      " [1.66118977e-02]\n",
      " [4.89956841e-03]\n",
      " [9.29645680e-05]]\n"
     ]
    }
   ],
   "source": [
    "class_wise_labels = np.zeros((10, 5000), dtype= int)\n",
    "for i in range(10):\n",
    "    b= np.where( labels == i)\n",
    "    class_wise_labels[i, :] =  b[0]\n",
    "\n",
    "ind = rng.integers(low=0, high=5000, size=1)\n",
    "\n",
    "for c in range(10):\n",
    "\n",
    "    i = class_wise_labels[c, ind[0]]\n",
    "    input = inputs[i]\n",
    "    output,fv = cnn.feed_forward(input= input, num_outputs= 10)\n",
    "    print(\"\\nOutput vector for label : \", LABELS[labels[i]])\n",
    "    print(output)\n",
    "    \n"
   ]
  },
  {
   "cell_type": "markdown",
   "metadata": {},
   "source": [
    "Observations from 8a) Irrespective of the input images the CNN outputs similar output vectors depending upon the initializations. The output vectors are predicting the same thing irrespective of theinput images."
   ]
  },
  {
   "cell_type": "markdown",
   "metadata": {},
   "source": [
    "Question 8 b) Visualize (plot) the bottleneck layer (output of flattening layer) using PCA"
   ]
  },
  {
   "cell_type": "code",
   "execution_count": 24,
   "metadata": {},
   "outputs": [
    {
     "data": {
      "image/png": "[encoded data removed]",
      "text/plain": [
       "<Figure size 640x480 with 1 Axes>"
      ]
     },
     "metadata": {},
     "output_type": "display_data"
    }
   ],
   "source": [
    "\n",
    "X = np.zeros((30, 8))\n",
    "Y = np.zeros((30))\n",
    "ind = rng.integers(low=0, high=4998, size=1)\n",
    "\n",
    "for c in range(10):\n",
    "    j = class_wise_labels[c, ind[0]]\n",
    "    for i in range(j, j+3):\n",
    "        input = inputs[i]\n",
    "        output,fv = cnn.feed_forward(input= input, num_outputs= 10)\n",
    "        X[3*c+i-j, :] = fv.reshape(8,)\n",
    "        Y[3*c+i-j] = c\n",
    "    \n",
    "\n",
    "from sklearn.decomposition import PCA\n",
    "pca = PCA()\n",
    "Xt = pca.fit_transform(X)\n",
    "plot = plt.scatter(Xt[:,0], Xt[:,1], c=Y)\n",
    "plt.legend(handles=plot.legend_elements()[0], labels= LABELS)\n",
    "plt.title(\"Visualizing flatten vector using PCA\")\n",
    "plt.show()"
   ]
  },
  {
   "cell_type": "markdown",
   "metadata": {},
   "source": [
    "The above visualization shows that the randomly intitalized networks does not differentiate images depending upon the input. Instead all the outputs are closer together. "
   ]
  }
 ],
 "metadata": {
  "kernelspec": {
   "display_name": "Python 3 (ipykernel)",
   "language": "python",
   "name": "python3"
  },
  "language_info": {
   "codemirror_mode": {
    "name": "ipython",
    "version": 3
   },
   "file_extension": ".py",
   "mimetype": "text/x-python",
   "name": "python",
   "nbconvert_exporter": "python",
   "pygments_lexer": "ipython3",
   "version": "3.9.13"
  },
  "vscode": {
   "interpreter": {
    "hash": "d122ab13f835faa121d8a7e5d099a2a80a429381ec3df188794f6e23031ee3c4"
   }
  }
 },
 "nbformat": 4,
 "nbformat_minor": 2
}
